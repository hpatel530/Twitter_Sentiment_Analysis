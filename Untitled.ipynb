{
 "cells": [
  {
   "cell_type": "markdown",
   "metadata": {},
   "source": [
    "# Twitter Sentiment Analysis on Apple & Google Products"
   ]
  },
  {
   "cell_type": "markdown",
   "metadata": {},
   "source": [
    "## Is a tweet Positive, Negative or Neutral?"
   ]
  },
  {
   "cell_type": "markdown",
   "metadata": {},
   "source": [
    "## By: Hiten Patel "
   ]
  },
  {
   "cell_type": "markdown",
   "metadata": {},
   "source": [
    "In one day, there are over 500 million tweets among all twitter users. That's 6,000 tweets every second. You can assume they are either positive, negative or neutral. They could be about a person, place, or thing. In this case, it will be about products. Apple has over 13 million twitter followers and Google has over 22 million twitter followers. The goal of this project is to build a Natural Processing Language model to analyze twitter sentiments about Apple and Google products as either positive, negative or neutral. The dataset comes from CrowdFlower via data.world and it contains over 9,000 tweets that include all words that are related to the Apple or Google brand. \n",
    "\n",
    "Questions we will be looking to answer are; \n",
    "* What is the best way to preprocess the data? Word_tokenizer or Tweet_tokenizer? Both methods are useful, effective and each have there advantages. \n",
    "* What type of vectorizer should we use? Count vectorizer or tfidf vectorizer?\n",
    "* What is the best model to use? Support Vector Machines, Random Forest Classifier or MultinomialNB?\n",
    "* How can the companies use consumer feelings/opinions about a product or service to their business advantage?\n"
   ]
  },
  {
   "cell_type": "markdown",
   "metadata": {},
   "source": [
    "## Dataset"
   ]
  },
  {
   "cell_type": "markdown",
   "metadata": {},
   "source": [
    "The dataset comes from Crowdflower on the website data.world. The data contains over 9000 tweets. Over 63% of the data contains neutral tweets, 30% of the data is positive tweets and less than 7% is negative tweets. \n",
    "\n",
    "Here is the link for the data. \n",
    "https://data.world/crowdflower/brands-and-product-emotions/workspace/file?filename=judge-1377884607_tweet_product_company.csv"
   ]
  },
  {
   "cell_type": "markdown",
   "metadata": {},
   "source": [
    "## The Process"
   ]
  },
  {
   "cell_type": "markdown",
   "metadata": {},
   "source": [
    "<img src = process_corpus.jpeg>"
   ]
  },
  {
   "cell_type": "markdown",
   "metadata": {},
   "source": [
    "The dataset contained over 9,000 tweets and after the initial observations and clean up, we performed additional pre-processing methods for the Natural Language Process (NLP), which were the following:  \n",
    "\n",
    "* All words are lowercased\n",
    "* Common words and special characters are removed\n",
    "* URL links are removed\n",
    "* Words are tokenized\n",
    "\n",
    "<img src = normalize.png >\n",
    "\n",
    "The diagram above is a general idea of the NLP pre-process. We used two different methods to create our tokens; word_tokenize() and nltk tweettokenizer(). Each method has the same concept but different execution. Word_tokenize() does a better job pre-processing urls and tweettokenizer() does a better job of preprocessing handles(@twitter_handle). After running the FreqDist() method we noticed both tokenizers yielded some common terms with high amount of frequency. We removed the following words:\n",
    "* \"sxsw\" which stands for south by southwest\n",
    "* \"mention\"\n",
    "* \"rt\" which stand for retweet\n",
    "* \"link\" \n",
    "\n",
    "The words below are the most frequent words contained in the dataset using each tokenizer. The larger the word appears the more frequent it occured. \n",
    "\n",
    "\n",
    "<img src = \"top word tokenize.png\" width=\"400\" height=\"400\">\n",
    "\n",
    "<img src = \"top tweets tokenize.png\" width=\"400\" height=\"400\">"
   ]
  },
  {
   "cell_type": "markdown",
   "metadata": {},
   "source": [
    "### TF-IDF Vectorization\n",
    "\n",
    "Term frequency–inverse document frequency (tf-idf), is the vectorization method we chose. It's a numerical statistic that is intended to reflect how important a word is to a document in a collection. \n",
    "\n",
    "<img src = tfidf.jpeg>"
   ]
  },
  {
   "cell_type": "markdown",
   "metadata": {},
   "source": [
    "## Support Vector Machines"
   ]
  },
  {
   "cell_type": "markdown",
   "metadata": {},
   "source": [
    "Support Vector Machines classifier was the chosen model as it outperformed Random Forest Classifier and MultinomialNB. After performing the gridsearch method, the hyper parameters were adjusted to;  \n",
    "\n",
    "> \n",
    ">* kernel = 'linear'\n",
    "* class_weight = 'balanced'\n",
    "* gamma = 'scale'\n",
    "\n",
    "SVM  had an average accuracy score of .92 for the training data and an average accuracy score of .68 for the test data. \n",
    "\n",
    "<img src = \"matrix training.png\" >\n",
    "<img src =matrix_testing.png >"
   ]
  },
  {
   "cell_type": "markdown",
   "metadata": {},
   "source": [
    "Below are the most common words for positive tweets, no emotion tweets, and negative tweets. There are common words in each category which made it difficult for the model to predict. Although the training data tested at 92%, there is a significant drop off at 68% on the testing data. \n",
    "\n",
    "<img src =\"positive_tweets.png\" width=300>\n",
    "<img src =\"neutral_tweets.png\" width=300>\n",
    "<img src =\"negative_tweets .png\" width=300>\n",
    "\n",
    "Below is an example of how the model is predicting one tweet and how the words are weighted for each classifier. \n",
    "\n",
    "<img src = \"Screen Shot 2020-11-14 at 8.22.14 PM.png\">"
   ]
  },
  {
   "cell_type": "markdown",
   "metadata": {},
   "source": [
    "## Recommendation\n",
    "\n",
    "The Support Vector Machines model returned an accuracy rate of 68%. Any method of vectorization (count/tfidf) combined with any method of tokenizer (word_tokenizer/tweet tokenizer) would yield the same results. According to the visuals produced, positive tweets, negative tweets and neutral tweets all have similar terms with high frequency. After reviewing the data, we have the following recommendations; \n",
    "* Both Google and Apple should have a strong presence at the yearly South by Southwest music and media festivals \n",
    "* Promotional offers to users who send out positive tweets\n",
    "* Monitor and respond negative tweets live "
   ]
  },
  {
   "cell_type": "markdown",
   "metadata": {},
   "source": [
    "## Future Work"
   ]
  },
  {
   "cell_type": "markdown",
   "metadata": {},
   "source": [
    "The next steps to improve the model would be; \n",
    "* Larger balanced dataset\n",
    "* Additional preprocessing: removing misspelled words\n",
    "* Perform deep NLP: Word embeddings "
   ]
  },
  {
   "cell_type": "code",
   "execution_count": null,
   "metadata": {},
   "outputs": [],
   "source": []
  }
 ],
 "metadata": {
  "kernelspec": {
   "display_name": "Python 3",
   "language": "python",
   "name": "python3"
  },
  "language_info": {
   "codemirror_mode": {
    "name": "ipython",
    "version": 3
   },
   "file_extension": ".py",
   "mimetype": "text/x-python",
   "name": "python",
   "nbconvert_exporter": "python",
   "pygments_lexer": "ipython3",
   "version": "3.6.9"
  },
  "toc": {
   "base_numbering": 1,
   "nav_menu": {},
   "number_sections": true,
   "sideBar": true,
   "skip_h1_title": false,
   "title_cell": "Table of Contents",
   "title_sidebar": "Contents",
   "toc_cell": false,
   "toc_position": {},
   "toc_section_display": true,
   "toc_window_display": false
  }
 },
 "nbformat": 4,
 "nbformat_minor": 2
}
